{
  "nbformat": 4,
  "nbformat_minor": 0,
  "metadata": {
    "colab": {
      "name": "Lecture 08 DataLoader.ipynb",
      "provenance": [],
      "collapsed_sections": [],
      "include_colab_link": true
    },
    "kernelspec": {
      "name": "python3",
      "display_name": "Python 3"
    }
  },
  "cells": [
    {
      "cell_type": "markdown",
      "metadata": {
        "id": "view-in-github",
        "colab_type": "text"
      },
      "source": [
        "<a href=\"https://colab.research.google.com/github/rogerallen741/PyTorch-Learning/blob/master/Lecture_08_DataLoader.ipynb\" target=\"_parent\"><img src=\"https://colab.research.google.com/assets/colab-badge.svg\" alt=\"Open In Colab\"/></a>"
      ]
    },
    {
      "cell_type": "code",
      "metadata": {
        "id": "pLi6MC-pMwp6",
        "colab_type": "code",
        "colab": {}
      },
      "source": [
        "from torch.utils.data import Dataset, DataLoader\n",
        "from torch import nn, from_numpy, optim\n",
        "import numpy as np\n",
        "from google.colab import files\n",
        "uploaded = files.upload()\n"
      ],
      "execution_count": 0,
      "outputs": []
    },
    {
      "cell_type": "code",
      "metadata": {
        "id": "_0l8sSj1s5ml",
        "colab_type": "code",
        "colab": {}
      },
      "source": [
        "class DiabetesDataset(Dataset):\n",
        "    \"\"\" Diabetes dataset.\"\"\"\n",
        "    # Initialize your data, download, etc.\n",
        "    def __init__(self):\n",
        "        xy = np.loadtxt('diabetes.csv.gz',\n",
        "                        delimiter=',', dtype=np.float32)\n",
        "        self.len = xy.shape[0]\n",
        "        self.x_data = from_numpy(xy[:, 0:-1])\n",
        "        self.y_data = from_numpy(xy[:, [-1]])\n",
        "\n",
        "    def __getitem__(self, index):\n",
        "        return self.x_data[index], self.y_data[index]\n",
        "\n",
        "    def __len__(self):\n",
        "        return self.len"
      ],
      "execution_count": 0,
      "outputs": []
    },
    {
      "cell_type": "code",
      "metadata": {
        "id": "cuQqhFYeuQz9",
        "colab_type": "code",
        "colab": {}
      },
      "source": [
        "dataset = DiabetesDataset()\n",
        "train_loader = DataLoader(dataset=dataset,\n",
        "                          batch_size=32,\n",
        "                          shuffle=True,\n",
        "                          num_workers=2)"
      ],
      "execution_count": 0,
      "outputs": []
    },
    {
      "cell_type": "code",
      "metadata": {
        "id": "Qa5GxtPdwM_K",
        "colab_type": "code",
        "colab": {}
      },
      "source": [
        "class Model(nn.Module):\n",
        "  def __init__(self):\n",
        "    \"\"\"\n",
        "    In the constructor we instantiate two nn.Linear module\n",
        "    \"\"\"\n",
        "    super(Model,self).__init__()\n",
        "    self.l1 = nn.Linear(8,6)\n",
        "    self.l2 = nn.Linear(6,4)\n",
        "    self.l3 = nn.Linear(4,1)\n",
        "    self.sigmoid = nn.Sigmoid()\n",
        "    \n",
        "  def forward(self, x):\n",
        "      out1 = self.sigmoid(self.l1(x))\n",
        "      out2 = self.sigmoid(self.l2(out1))\n",
        "      y_pred = self.sigmoid(self.l3(out2))\n",
        "      return y_pred\n",
        "\n"
      ],
      "execution_count": 0,
      "outputs": []
    },
    {
      "cell_type": "code",
      "metadata": {
        "id": "o8K66Y4FxtJ6",
        "colab_type": "code",
        "colab": {}
      },
      "source": [
        "# our model\n",
        "model = Model()\n",
        "\n",
        "# Construct our loss function and an Optimizer. The call to model.parameters()\n",
        "# in the SGD constructor will contain the learnable parameters of the two\n",
        "# nn.Linear modules which are members of the model.\n",
        "criterion = nn.BCELoss(reduction='sum')\n",
        "optimizer = optim.SGD(model.parameters(), lr=0.1)"
      ],
      "execution_count": 0,
      "outputs": []
    },
    {
      "cell_type": "code",
      "metadata": {
        "id": "2gFXh9FLxvTu",
        "colab_type": "code",
        "colab": {
          "base_uri": "https://localhost:8080/",
          "height": 1000
        },
        "outputId": "fa6b735c-27ee-4938-d0b1-d9fa82c3a23a"
      },
      "source": [
        "# Training loop\n",
        "for epoch in range(5):\n",
        "    for i, data in enumerate(train_loader):\n",
        "        # get the inputs\n",
        "        inputs, labels = data\n",
        "\n",
        "        # Forward pass: Compute predicted y by passing x to the model\n",
        "        y_pred = model(inputs)\n",
        "\n",
        "        # Compute and print loss\n",
        "        loss = criterion(y_pred, labels)\n",
        "        print(f'Epoch {epoch + 1} | Batch: {i+1} | Loss: {loss.item():.4f}')\n",
        "\n",
        "        # Zero gradients, perform a backward pass, and update the weights.\n",
        "        optimizer.zero_grad()\n",
        "        loss.backward()\n",
        "        optimizer.step()"
      ],
      "execution_count": 28,
      "outputs": [
        {
          "output_type": "stream",
          "text": [
            "Epoch 1 | Batch: 1 | Loss: 15.4969\n",
            "Epoch 1 | Batch: 2 | Loss: 16.3828\n",
            "Epoch 1 | Batch: 3 | Loss: 14.0762\n",
            "Epoch 1 | Batch: 4 | Loss: 12.5115\n",
            "Epoch 1 | Batch: 5 | Loss: 27.5468\n",
            "Epoch 1 | Batch: 6 | Loss: 18.9182\n",
            "Epoch 1 | Batch: 7 | Loss: 16.7290\n",
            "Epoch 1 | Batch: 8 | Loss: 17.9875\n",
            "Epoch 1 | Batch: 9 | Loss: 15.1305\n",
            "Epoch 1 | Batch: 10 | Loss: 10.9656\n",
            "Epoch 1 | Batch: 11 | Loss: 18.5069\n",
            "Epoch 1 | Batch: 12 | Loss: 19.3322\n",
            "Epoch 1 | Batch: 13 | Loss: 19.7326\n",
            "Epoch 1 | Batch: 14 | Loss: 16.6675\n",
            "Epoch 1 | Batch: 15 | Loss: 18.1696\n",
            "Epoch 1 | Batch: 16 | Loss: 19.8085\n",
            "Epoch 1 | Batch: 17 | Loss: 18.9908\n",
            "Epoch 1 | Batch: 18 | Loss: 15.5031\n",
            "Epoch 1 | Batch: 19 | Loss: 17.5029\n",
            "Epoch 1 | Batch: 20 | Loss: 18.1320\n",
            "Epoch 1 | Batch: 21 | Loss: 36.6780\n",
            "Epoch 1 | Batch: 22 | Loss: 27.0858\n",
            "Epoch 1 | Batch: 23 | Loss: 16.6210\n",
            "Epoch 1 | Batch: 24 | Loss: 10.7186\n",
            "Epoch 2 | Batch: 1 | Loss: 16.7491\n",
            "Epoch 2 | Batch: 2 | Loss: 14.5688\n",
            "Epoch 2 | Batch: 3 | Loss: 18.7106\n",
            "Epoch 2 | Batch: 4 | Loss: 15.0847\n",
            "Epoch 2 | Batch: 5 | Loss: 16.6065\n",
            "Epoch 2 | Batch: 6 | Loss: 16.5839\n",
            "Epoch 2 | Batch: 7 | Loss: 14.8038\n",
            "Epoch 2 | Batch: 8 | Loss: 14.1672\n",
            "Epoch 2 | Batch: 9 | Loss: 18.6906\n",
            "Epoch 2 | Batch: 10 | Loss: 19.3610\n",
            "Epoch 2 | Batch: 11 | Loss: 15.2628\n",
            "Epoch 2 | Batch: 12 | Loss: 15.4843\n",
            "Epoch 2 | Batch: 13 | Loss: 16.2619\n",
            "Epoch 2 | Batch: 14 | Loss: 19.9648\n",
            "Epoch 2 | Batch: 15 | Loss: 14.4828\n",
            "Epoch 2 | Batch: 16 | Loss: 11.8477\n",
            "Epoch 2 | Batch: 17 | Loss: 12.0380\n",
            "Epoch 2 | Batch: 18 | Loss: 12.5460\n",
            "Epoch 2 | Batch: 19 | Loss: 16.2737\n",
            "Epoch 2 | Batch: 20 | Loss: 12.0475\n",
            "Epoch 2 | Batch: 21 | Loss: 15.2809\n",
            "Epoch 2 | Batch: 22 | Loss: 24.0073\n",
            "Epoch 2 | Batch: 23 | Loss: 18.4999\n",
            "Epoch 2 | Batch: 24 | Loss: 12.5518\n",
            "Epoch 3 | Batch: 1 | Loss: 13.7437\n",
            "Epoch 3 | Batch: 2 | Loss: 11.2977\n",
            "Epoch 3 | Batch: 3 | Loss: 16.8536\n",
            "Epoch 3 | Batch: 4 | Loss: 13.0507\n",
            "Epoch 3 | Batch: 5 | Loss: 11.8972\n",
            "Epoch 3 | Batch: 6 | Loss: 14.1812\n",
            "Epoch 3 | Batch: 7 | Loss: 22.0119\n",
            "Epoch 3 | Batch: 8 | Loss: 16.8399\n",
            "Epoch 3 | Batch: 9 | Loss: 19.0934\n",
            "Epoch 3 | Batch: 10 | Loss: 15.6389\n",
            "Epoch 3 | Batch: 11 | Loss: 17.7089\n",
            "Epoch 3 | Batch: 12 | Loss: 14.1948\n",
            "Epoch 3 | Batch: 13 | Loss: 13.8011\n",
            "Epoch 3 | Batch: 14 | Loss: 11.8607\n",
            "Epoch 3 | Batch: 15 | Loss: 18.2229\n",
            "Epoch 3 | Batch: 16 | Loss: 15.0898\n",
            "Epoch 3 | Batch: 17 | Loss: 11.6459\n",
            "Epoch 3 | Batch: 18 | Loss: 16.4761\n",
            "Epoch 3 | Batch: 19 | Loss: 13.1793\n",
            "Epoch 3 | Batch: 20 | Loss: 15.2580\n",
            "Epoch 3 | Batch: 21 | Loss: 13.5312\n",
            "Epoch 3 | Batch: 22 | Loss: 20.3080\n",
            "Epoch 3 | Batch: 23 | Loss: 17.6423\n",
            "Epoch 3 | Batch: 24 | Loss: 10.2628\n",
            "Epoch 4 | Batch: 1 | Loss: 18.6171\n",
            "Epoch 4 | Batch: 2 | Loss: 19.0725\n",
            "Epoch 4 | Batch: 3 | Loss: 17.6709\n",
            "Epoch 4 | Batch: 4 | Loss: 19.7414\n",
            "Epoch 4 | Batch: 5 | Loss: 19.6646\n",
            "Epoch 4 | Batch: 6 | Loss: 11.3498\n",
            "Epoch 4 | Batch: 7 | Loss: 18.3371\n",
            "Epoch 4 | Batch: 8 | Loss: 18.1947\n",
            "Epoch 4 | Batch: 9 | Loss: 13.2041\n",
            "Epoch 4 | Batch: 10 | Loss: 15.4246\n",
            "Epoch 4 | Batch: 11 | Loss: 11.3659\n",
            "Epoch 4 | Batch: 12 | Loss: 16.5333\n",
            "Epoch 4 | Batch: 13 | Loss: 11.9159\n",
            "Epoch 4 | Batch: 14 | Loss: 17.5712\n",
            "Epoch 4 | Batch: 15 | Loss: 15.1274\n",
            "Epoch 4 | Batch: 16 | Loss: 13.7425\n",
            "Epoch 4 | Batch: 17 | Loss: 20.1771\n",
            "Epoch 4 | Batch: 18 | Loss: 16.6792\n",
            "Epoch 4 | Batch: 19 | Loss: 12.8458\n",
            "Epoch 4 | Batch: 20 | Loss: 11.9892\n",
            "Epoch 4 | Batch: 21 | Loss: 20.8612\n",
            "Epoch 4 | Batch: 22 | Loss: 14.1511\n",
            "Epoch 4 | Batch: 23 | Loss: 17.0944\n",
            "Epoch 4 | Batch: 24 | Loss: 10.2142\n",
            "Epoch 5 | Batch: 1 | Loss: 16.8854\n",
            "Epoch 5 | Batch: 2 | Loss: 19.5888\n",
            "Epoch 5 | Batch: 3 | Loss: 12.6118\n",
            "Epoch 5 | Batch: 4 | Loss: 19.6683\n",
            "Epoch 5 | Batch: 5 | Loss: 17.2340\n",
            "Epoch 5 | Batch: 6 | Loss: 13.8456\n",
            "Epoch 5 | Batch: 7 | Loss: 15.5762\n",
            "Epoch 5 | Batch: 8 | Loss: 11.4695\n",
            "Epoch 5 | Batch: 9 | Loss: 22.2441\n",
            "Epoch 5 | Batch: 10 | Loss: 24.5696\n",
            "Epoch 5 | Batch: 11 | Loss: 14.7783\n",
            "Epoch 5 | Batch: 12 | Loss: 15.7745\n",
            "Epoch 5 | Batch: 13 | Loss: 14.6057\n",
            "Epoch 5 | Batch: 14 | Loss: 16.3554\n",
            "Epoch 5 | Batch: 15 | Loss: 18.4789\n",
            "Epoch 5 | Batch: 16 | Loss: 12.7671\n",
            "Epoch 5 | Batch: 17 | Loss: 20.0455\n",
            "Epoch 5 | Batch: 18 | Loss: 13.0073\n",
            "Epoch 5 | Batch: 19 | Loss: 16.8777\n",
            "Epoch 5 | Batch: 20 | Loss: 16.4442\n",
            "Epoch 5 | Batch: 21 | Loss: 13.3706\n",
            "Epoch 5 | Batch: 22 | Loss: 15.5820\n",
            "Epoch 5 | Batch: 23 | Loss: 16.9919\n",
            "Epoch 5 | Batch: 24 | Loss: 8.4636\n"
          ],
          "name": "stdout"
        }
      ]
    }
  ]
}