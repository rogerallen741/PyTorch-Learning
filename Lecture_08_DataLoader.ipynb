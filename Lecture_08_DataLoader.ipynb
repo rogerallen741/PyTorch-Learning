{
  "nbformat": 4,
  "nbformat_minor": 0,
  "metadata": {
    "colab": {
      "name": "Lecture 08 DataLoader.ipynb",
      "provenance": [],
      "collapsed_sections": [],
      "include_colab_link": true
    },
    "kernelspec": {
      "name": "python3",
      "display_name": "Python 3"
    }
  },
  "cells": [
    {
      "cell_type": "markdown",
      "metadata": {
        "id": "view-in-github",
        "colab_type": "text"
      },
      "source": [
        "<a href=\"https://colab.research.google.com/github/rogerallen741/PyTorch-Learning/blob/master/Lecture_08_DataLoader.ipynb\" target=\"_parent\"><img src=\"https://colab.research.google.com/assets/colab-badge.svg\" alt=\"Open In Colab\"/></a>"
      ]
    },
    {
      "cell_type": "code",
      "metadata": {
        "id": "pLi6MC-pMwp6",
        "colab_type": "code",
        "colab": {}
      },
      "source": [
        "from torch.utils.data import Dataset, DataLoader\n",
        "from torch import nn, from_numpy, optim\n",
        "import numpy as np\n",
        "from google.colab import files\n",
        "uploaded = files.upload()\n"
      ],
      "execution_count": 0,
      "outputs": []
    },
    {
      "cell_type": "code",
      "metadata": {
        "id": "_0l8sSj1s5ml",
        "colab_type": "code",
        "colab": {}
      },
      "source": [
        "class DiabetesDataset(Dataset):\n",
        "    \"\"\" Diabetes dataset.\"\"\"\n",
        "    # Initialize your data, download, etc.\n",
        "    def __init__(self):\n",
        "        xy = np.loadtxt('diabetes.csv.gz',\n",
        "                        delimiter=',', dtype=np.float32)\n",
        "        self.len = xy.shape[0]\n",
        "        self.x_data = from_numpy(xy[:, 0:-1])\n",
        "        self.y_data = from_numpy(xy[:, [-1]])\n",
        "\n",
        "    def __getitem__(self, index):\n",
        "        return self.x_data[index], self.y_data[index]\n",
        "\n",
        "    def __len__(self):\n",
        "        return self.len"
      ],
      "execution_count": 0,
      "outputs": []
    },
    {
      "cell_type": "code",
      "metadata": {
        "id": "cuQqhFYeuQz9",
        "colab_type": "code",
        "colab": {}
      },
      "source": [
        "dataset = DiabetesDataset()\n",
        "train_loader = DataLoader(dataset=dataset,\n",
        "                          batch_size=32,\n",
        "                          shuffle=True,\n",
        "                          num_workers=2)"
      ],
      "execution_count": 0,
      "outputs": []
    },
    {
      "cell_type": "code",
      "metadata": {
        "id": "Qa5GxtPdwM_K",
        "colab_type": "code",
        "colab": {}
      },
      "source": [
        "class Model(nn.Module):\n",
        "  def __init__(self):\n",
        "    \"\"\"\n",
        "    In the constructor we instantiate two nn.Linear module\n",
        "    \"\"\"\n",
        "    super(Model,self).__init__()\n",
        "    self.l1 = nn.Linear(8,6)\n",
        "    self.l2 = nn.Linear(6,4)\n",
        "    self.l3 = nn.Linear(4,1)\n",
        "    self.sigmoid = nn.Sigmoid()\n",
        "    \n",
        "  def forward(self, x):\n",
        "      out1 = self.sigmoid(self.l1(x))\n",
        "      out2 = self.sigmoid(self.l2(out1))\n",
        "      y_pred = self.sigmoid(self.l3(out2))\n",
        "      return y_pred\n",
        "\n"
      ],
      "execution_count": 0,
      "outputs": []
    },
    {
      "cell_type": "code",
      "metadata": {
        "id": "o8K66Y4FxtJ6",
        "colab_type": "code",
        "colab": {}
      },
      "source": [
        "# our model\n",
        "model = Model()\n",
        "\n",
        "# Construct our loss function and an Optimizer. The call to model.parameters()\n",
        "# in the SGD constructor will contain the learnable parameters of the two\n",
        "# nn.Linear modules which are members of the model.\n",
        "criterion = nn.BCELoss(reduction='sum')\n",
        "optimizer = optim.SGD(model.parameters(), lr=0.1)"
      ],
      "execution_count": 0,
      "outputs": []
    },
    {
      "cell_type": "code",
      "metadata": {
        "id": "2gFXh9FLxvTu",
        "colab_type": "code",
        "outputId": "e1df9315-393a-4e09-ccb4-c582c5b503bd",
        "colab": {
          "base_uri": "https://localhost:8080/",
          "height": 1000
        }
      },
      "source": [
        "# Training loop\n",
        "for epoch in range(5):\n",
        "    for i, data in enumerate(train_loader):\n",
        "        # get the inputs\n",
        "        inputs, labels = data\n",
        "\n",
        "        # Forward pass: Compute predicted y by passing x to the model\n",
        "        y_pred = model(inputs)\n",
        "\n",
        "        # Compute and print loss\n",
        "        loss = criterion(y_pred, labels)\n",
        "        print(f'Epoch {epoch + 1} | Batch: {i+1} | Loss: {loss.item():.4f}')\n",
        "\n",
        "        # Zero gradients, perform a backward pass, and update the weights.\n",
        "        optimizer.zero_grad()\n",
        "        loss.backward()\n",
        "        optimizer.step()"
      ],
      "execution_count": 0,
      "outputs": [
        {
          "output_type": "stream",
          "text": [
            "Epoch 1 | Batch: 1 | Loss: 13.9595\n",
            "Epoch 1 | Batch: 2 | Loss: 19.1882\n",
            "Epoch 1 | Batch: 3 | Loss: 16.1312\n",
            "Epoch 1 | Batch: 4 | Loss: 16.5585\n",
            "Epoch 1 | Batch: 5 | Loss: 14.7919\n",
            "Epoch 1 | Batch: 6 | Loss: 11.7954\n",
            "Epoch 1 | Batch: 7 | Loss: 16.8997\n",
            "Epoch 1 | Batch: 8 | Loss: 10.5221\n",
            "Epoch 1 | Batch: 9 | Loss: 26.3588\n",
            "Epoch 1 | Batch: 10 | Loss: 26.4446\n",
            "Epoch 1 | Batch: 11 | Loss: 14.0999\n",
            "Epoch 1 | Batch: 12 | Loss: 20.2218\n",
            "Epoch 1 | Batch: 13 | Loss: 15.3462\n",
            "Epoch 1 | Batch: 14 | Loss: 19.4425\n",
            "Epoch 1 | Batch: 15 | Loss: 16.9673\n",
            "Epoch 1 | Batch: 16 | Loss: 19.3469\n",
            "Epoch 1 | Batch: 17 | Loss: 17.5868\n",
            "Epoch 1 | Batch: 18 | Loss: 16.2024\n",
            "Epoch 1 | Batch: 19 | Loss: 13.1377\n",
            "Epoch 1 | Batch: 20 | Loss: 13.2035\n",
            "Epoch 1 | Batch: 21 | Loss: 17.1242\n",
            "Epoch 1 | Batch: 22 | Loss: 14.3452\n",
            "Epoch 1 | Batch: 23 | Loss: 13.0643\n",
            "Epoch 1 | Batch: 24 | Loss: 8.3735\n",
            "Epoch 2 | Batch: 1 | Loss: 11.6928\n",
            "Epoch 2 | Batch: 2 | Loss: 16.4574\n",
            "Epoch 2 | Batch: 3 | Loss: 15.9301\n",
            "Epoch 2 | Batch: 4 | Loss: 17.5174\n",
            "Epoch 2 | Batch: 5 | Loss: 18.3499\n",
            "Epoch 2 | Batch: 6 | Loss: 15.2213\n",
            "Epoch 2 | Batch: 7 | Loss: 15.5221\n",
            "Epoch 2 | Batch: 8 | Loss: 15.4169\n",
            "Epoch 2 | Batch: 9 | Loss: 16.9804\n",
            "Epoch 2 | Batch: 10 | Loss: 13.5276\n",
            "Epoch 2 | Batch: 11 | Loss: 16.4630\n",
            "Epoch 2 | Batch: 12 | Loss: 10.5152\n",
            "Epoch 2 | Batch: 13 | Loss: 25.8830\n",
            "Epoch 2 | Batch: 14 | Loss: 16.8153\n",
            "Epoch 2 | Batch: 15 | Loss: 15.3773\n",
            "Epoch 2 | Batch: 16 | Loss: 13.4592\n",
            "Epoch 2 | Batch: 17 | Loss: 13.9083\n",
            "Epoch 2 | Batch: 18 | Loss: 17.9744\n",
            "Epoch 2 | Batch: 19 | Loss: 17.0372\n",
            "Epoch 2 | Batch: 20 | Loss: 14.6599\n",
            "Epoch 2 | Batch: 21 | Loss: 20.6071\n",
            "Epoch 2 | Batch: 22 | Loss: 15.5565\n",
            "Epoch 2 | Batch: 23 | Loss: 17.8304\n",
            "Epoch 2 | Batch: 24 | Loss: 9.2440\n",
            "Epoch 3 | Batch: 1 | Loss: 12.6245\n",
            "Epoch 3 | Batch: 2 | Loss: 11.4593\n",
            "Epoch 3 | Batch: 3 | Loss: 16.3585\n",
            "Epoch 3 | Batch: 4 | Loss: 15.9004\n",
            "Epoch 3 | Batch: 5 | Loss: 10.8977\n",
            "Epoch 3 | Batch: 6 | Loss: 12.8157\n",
            "Epoch 3 | Batch: 7 | Loss: 11.8570\n",
            "Epoch 3 | Batch: 8 | Loss: 17.5522\n",
            "Epoch 3 | Batch: 9 | Loss: 17.7131\n",
            "Epoch 3 | Batch: 10 | Loss: 12.7908\n",
            "Epoch 3 | Batch: 11 | Loss: 14.2954\n",
            "Epoch 3 | Batch: 12 | Loss: 20.0991\n",
            "Epoch 3 | Batch: 13 | Loss: 15.5918\n",
            "Epoch 3 | Batch: 14 | Loss: 19.8672\n",
            "Epoch 3 | Batch: 15 | Loss: 16.0639\n",
            "Epoch 3 | Batch: 16 | Loss: 14.9398\n",
            "Epoch 3 | Batch: 17 | Loss: 17.1729\n",
            "Epoch 3 | Batch: 18 | Loss: 14.7338\n",
            "Epoch 3 | Batch: 19 | Loss: 17.7251\n",
            "Epoch 3 | Batch: 20 | Loss: 17.1195\n",
            "Epoch 3 | Batch: 21 | Loss: 14.1896\n",
            "Epoch 3 | Batch: 22 | Loss: 11.6020\n",
            "Epoch 3 | Batch: 23 | Loss: 16.2078\n",
            "Epoch 3 | Batch: 24 | Loss: 13.3192\n",
            "Epoch 4 | Batch: 1 | Loss: 14.1864\n",
            "Epoch 4 | Batch: 2 | Loss: 13.7143\n",
            "Epoch 4 | Batch: 3 | Loss: 14.2518\n",
            "Epoch 4 | Batch: 4 | Loss: 19.5387\n",
            "Epoch 4 | Batch: 5 | Loss: 17.1435\n",
            "Epoch 4 | Batch: 6 | Loss: 18.0890\n",
            "Epoch 4 | Batch: 7 | Loss: 14.7491\n",
            "Epoch 4 | Batch: 8 | Loss: 11.8784\n",
            "Epoch 4 | Batch: 9 | Loss: 16.0546\n",
            "Epoch 4 | Batch: 10 | Loss: 16.2214\n",
            "Epoch 4 | Batch: 11 | Loss: 11.3815\n",
            "Epoch 4 | Batch: 12 | Loss: 13.5751\n",
            "Epoch 4 | Batch: 13 | Loss: 12.8669\n",
            "Epoch 4 | Batch: 14 | Loss: 14.5416\n",
            "Epoch 4 | Batch: 15 | Loss: 18.1371\n",
            "Epoch 4 | Batch: 16 | Loss: 16.1707\n",
            "Epoch 4 | Batch: 17 | Loss: 19.3994\n",
            "Epoch 4 | Batch: 18 | Loss: 23.6433\n",
            "Epoch 4 | Batch: 19 | Loss: 15.5338\n",
            "Epoch 4 | Batch: 20 | Loss: 8.8276\n",
            "Epoch 4 | Batch: 21 | Loss: 16.0877\n",
            "Epoch 4 | Batch: 22 | Loss: 16.0576\n",
            "Epoch 4 | Batch: 23 | Loss: 14.8748\n",
            "Epoch 4 | Batch: 24 | Loss: 12.2783\n",
            "Epoch 5 | Batch: 1 | Loss: 18.5924\n",
            "Epoch 5 | Batch: 2 | Loss: 11.6052\n",
            "Epoch 5 | Batch: 3 | Loss: 11.8218\n",
            "Epoch 5 | Batch: 4 | Loss: 11.1198\n",
            "Epoch 5 | Batch: 5 | Loss: 20.1524\n",
            "Epoch 5 | Batch: 6 | Loss: 16.7771\n",
            "Epoch 5 | Batch: 7 | Loss: 16.3834\n",
            "Epoch 5 | Batch: 8 | Loss: 24.4921\n",
            "Epoch 5 | Batch: 9 | Loss: 20.0157\n",
            "Epoch 5 | Batch: 10 | Loss: 14.6229\n",
            "Epoch 5 | Batch: 11 | Loss: 14.2658\n",
            "Epoch 5 | Batch: 12 | Loss: 14.9350\n",
            "Epoch 5 | Batch: 13 | Loss: 15.5985\n",
            "Epoch 5 | Batch: 14 | Loss: 14.3887\n",
            "Epoch 5 | Batch: 15 | Loss: 16.1469\n",
            "Epoch 5 | Batch: 16 | Loss: 17.0962\n",
            "Epoch 5 | Batch: 17 | Loss: 14.2341\n",
            "Epoch 5 | Batch: 18 | Loss: 13.5900\n",
            "Epoch 5 | Batch: 19 | Loss: 14.1467\n",
            "Epoch 5 | Batch: 20 | Loss: 14.7753\n",
            "Epoch 5 | Batch: 21 | Loss: 24.0580\n",
            "Epoch 5 | Batch: 22 | Loss: 15.9248\n",
            "Epoch 5 | Batch: 23 | Loss: 15.7925\n",
            "Epoch 5 | Batch: 24 | Loss: 9.9714\n"
          ],
          "name": "stdout"
        }
      ]
    }
  ]
}